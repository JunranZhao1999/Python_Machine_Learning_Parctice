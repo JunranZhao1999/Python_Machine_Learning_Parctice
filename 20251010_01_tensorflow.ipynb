{
 "cells": [
  {
   "cell_type": "code",
   "execution_count": 8,
   "id": "f21d09a5-ce8b-46a7-ba50-8949e4968483",
   "metadata": {},
   "outputs": [],
   "source": [
    "from keras.models import Sequential\n",
    "from keras.layers import Dense\n",
    "from keras.layers import LSTM"
   ]
  },
  {
   "cell_type": "code",
   "execution_count": 1,
   "id": "a979a301-1644-4c9b-9628-64f807ab80c6",
   "metadata": {},
   "outputs": [
    {
     "name": "stdout",
     "output_type": "stream",
     "text": [
      "3.9.23 (main, Jun  5 2025, 08:23:30) \n",
      "[Clang 14.0.6 ]\n",
      "/opt/anaconda3/envs/tensorflow/bin/python\n"
     ]
    }
   ],
   "source": [
    "import sys\n",
    "print(sys.version)\n",
    "print(sys.executable)"
   ]
  },
  {
   "cell_type": "code",
   "execution_count": 9,
   "id": "3cf3878b-3b37-4547-aaa2-d65c1d963e73",
   "metadata": {},
   "outputs": [
    {
     "name": "stdout",
     "output_type": "stream",
     "text": [
      "3.6.0\n",
      "2.18.1\n"
     ]
    }
   ],
   "source": [
    "import keras   #cpu tensorflow\n",
    "print(keras.__version__)\n",
    "import tensorflow as tf\n",
    "print(tf.__version__)"
   ]
  },
  {
   "cell_type": "code",
   "execution_count": 10,
   "id": "a79d5333-ae6e-4bbf-9b4b-8f887e6f4ad1",
   "metadata": {},
   "outputs": [],
   "source": [
    "import statsmodels"
   ]
  },
  {
   "cell_type": "markdown",
   "id": "4517e9d1-0ff4-4d80-8178-05774b3388dd",
   "metadata": {},
   "source": [
    "#### 泊松回归"
   ]
  },
  {
   "cell_type": "code",
   "execution_count": 3,
   "id": "b2d8efdf-434b-4362-b0b8-4778f61ed17c",
   "metadata": {},
   "outputs": [
    {
     "name": "stdout",
     "output_type": "stream",
     "text": [
      "Optimization terminated successfully.\n",
      "         Current function value: 4.215294\n",
      "         Iterations 7\n",
      "                          Poisson Regression Results                          \n",
      "==============================================================================\n",
      "Dep. Variable:                      Y   No. Observations:                  100\n",
      "Model:                        Poisson   Df Residuals:                       97\n",
      "Method:                           MLE   Df Model:                            2\n",
      "Date:                Sat, 11 Oct 2025   Pseudo R-squ.:                  0.9883\n",
      "Time:                        16:04:39   Log-Likelihood:                -421.53\n",
      "converged:                       True   LL-Null:                       -35958.\n",
      "Covariance Type:            nonrobust   LLR p-value:                     0.000\n",
      "==============================================================================\n",
      "                 coef    std err          z      P>|z|      [0.025      0.975]\n",
      "------------------------------------------------------------------------------\n",
      "Intercept     -0.0516      0.027     -1.929      0.054      -0.104       0.001\n",
      "X1             0.5045      0.003    185.864      0.000       0.499       0.510\n",
      "X2             0.3018      0.002    182.742      0.000       0.299       0.305\n",
      "==============================================================================\n",
      "0    110.932074\n",
      "1    143.873608\n",
      "2    341.229042\n",
      "3    544.389131\n",
      "4    165.179371\n",
      "dtype: float64\n"
     ]
    }
   ],
   "source": [
    "import numpy as np\n",
    "import pandas as pd\n",
    "import statsmodels.api as sm\n",
    "import statsmodels.formula.api as smf\n",
    "\n",
    "# 1.生成模拟数据\n",
    "np.random.seed(42)\n",
    "# 是用来设置随机数生成器的种子（seed）。在使用随机数生成器时，种子是一个整数值，用于初始化随机数生成器的状态。\n",
    "# 设置种子的主要目的是确保代码在每次运行时生成相同的随机数序列，这对于实验的可重复性和结果的验证非常重要。\n",
    "n = 100 # 样本量\n",
    "\n",
    "# 自变量\n",
    "X1 = np.random.normal(loc = 5,scale = 2,size = n) # 是 NumPy 库中的一个函数调用，用于生成符合正态分布（也称为高斯分布）的随机数。\n",
    "X2 = np.random.normal(loc = 10,scale = 3,size = n)\n",
    "# loc(float)：正态分布的均值，对应着这个分布的中心。在 np.random.normal(loc = 5,scale = 2,size = n) 中，loc = 5 表示生成的随机数的平均值为 5，即分布以 5 为中心。\n",
    "# scale(float)：正态分布的标准差，对应分布的宽度。scale = 2 说明生成的随机数的标准差为 2。标准差越大，正态分布的曲线越矮胖，意味着数据越分散；标准差越小，曲线越高瘦，数据越集中在均值附近。\n",
    "# size(int 或者整数元组)：输出的值赋在 size 里，默认为 None。size = n 表示生成 n 个符合该正态分布的随机数。如果 n 是一个整数，则生成一个包含 n 个元素的一维数组；如果 n 是一个整数元组，例如 (a, b)，则生成一个形状为 (a, b) 的二维数组。\n",
    "\n",
    "# 生成泊松分布的事件发生次数作为响应变量\n",
    "lambda_ = np.exp(0.5 * X1 + 0.3 * X2) \n",
    "# 0.5 和 0.3 是回归系数。在泊松回归的情境下，泊松回归模型假设响应变量 Y 服从泊松分布，其均值 λ 与自变量之间存在对数线性关系\n",
    "Y = np.random.poisson(lam = lambda_)\n",
    "\n",
    "# 创建dataframe\n",
    "data = pd.DataFrame({\n",
    "    'X1':X1,\n",
    "    'X2':X2,\n",
    "    'Y':Y\n",
    "})\n",
    "\n",
    "# 2.构建泊松回归模型\n",
    "# 使用公式接口构建模型\n",
    "# 表示Y作为响应变量,X1和X2作为预测变量\n",
    "model = smf.poisson('Y ~ X1+X2',data = data)\n",
    "# 表达式 y ~ x1 + x2 是统计学中一种常见的公式表示法，常用于线性回归等模型的描述。\n",
    "# 在这种表示中，y 是因变量（也称为响应变量），代表需要被预测或解释的变量；x1 和 x2 是自变量（也称为解释变量），用于预测或解释因变量 y 的变化。\n",
    "# ~ 符号表示“由……决定”或“依赖于”，加号 + 表示将多个自变量组合在一起，意味着 y 的值由 x1 和 x2 共同决定。\n",
    "results = model.fit()\n",
    "\n",
    "# 3.输出模型结果\n",
    "print(results.summary())\n",
    "\n",
    "# 4.进行预测\n",
    "predictions = results.predict(data)\n",
    "print(predictions.head())"
   ]
  },
  {
   "cell_type": "markdown",
   "id": "010097ec-9e97-475a-9b9e-a447edc62f62",
   "metadata": {},
   "source": [
    "#### 神经网络"
   ]
  },
  {
   "cell_type": "code",
   "execution_count": 4,
   "id": "d3a829cc-8b67-4d58-ba38-d44570ac2aef",
   "metadata": {},
   "outputs": [
    {
     "name": "stderr",
     "output_type": "stream",
     "text": [
      "2025-10-11 16:09:50.422901: I tensorflow/core/platform/cpu_feature_guard.cc:210] This TensorFlow binary is optimized to use available CPU instructions in performance-critical operations.\n",
      "To enable the following instructions: SSE4.1 SSE4.2 AVX AVX2 FMA, in other operations, rebuild TensorFlow with the appropriate compiler flags.\n"
     ]
    }
   ],
   "source": [
    "import numpy as np\n",
    "import tensorflow as tf\n",
    "from keras.models import Sequential\n",
    "from keras.layers import Dense\n",
    "from keras.optimizers import Adam\n",
    "from sklearn.metrics import mean_squared_error"
   ]
  },
  {
   "cell_type": "code",
   "execution_count": 6,
   "id": "c57a3fd6-0ea7-4440-b203-2f2f3a68cd9c",
   "metadata": {},
   "outputs": [
    {
     "name": "stdout",
     "output_type": "stream",
     "text": [
      "Epoch 1/50\n"
     ]
    },
    {
     "name": "stderr",
     "output_type": "stream",
     "text": [
      "/opt/anaconda3/envs/tensorflow/lib/python3.9/site-packages/keras/src/layers/core/dense.py:87: UserWarning: Do not pass an `input_shape`/`input_dim` argument to a layer. When using Sequential models, prefer using an `Input(shape)` object as the first layer in the model instead.\n",
      "  super().__init__(activity_regularizer=activity_regularizer, **kwargs)\n"
     ]
    },
    {
     "name": "stdout",
     "output_type": "stream",
     "text": [
      "\u001b[1m8/8\u001b[0m \u001b[32m━━━━━━━━━━━━━━━━━━━━\u001b[0m\u001b[37m\u001b[0m \u001b[1m1s\u001b[0m 14ms/step - loss: 0.2337 - val_loss: 0.2356\n",
      "Epoch 2/50\n",
      "\u001b[1m8/8\u001b[0m \u001b[32m━━━━━━━━━━━━━━━━━━━━\u001b[0m\u001b[37m\u001b[0m \u001b[1m0s\u001b[0m 4ms/step - loss: 0.1960 - val_loss: 0.1978\n",
      "Epoch 3/50\n",
      "\u001b[1m8/8\u001b[0m \u001b[32m━━━━━━━━━━━━━━━━━━━━\u001b[0m\u001b[37m\u001b[0m \u001b[1m0s\u001b[0m 4ms/step - loss: 0.1197 - val_loss: 0.1542\n",
      "Epoch 4/50\n",
      "\u001b[1m8/8\u001b[0m \u001b[32m━━━━━━━━━━━━━━━━━━━━\u001b[0m\u001b[37m\u001b[0m \u001b[1m0s\u001b[0m 4ms/step - loss: 0.1079 - val_loss: 0.1403\n",
      "Epoch 5/50\n",
      "\u001b[1m8/8\u001b[0m \u001b[32m━━━━━━━━━━━━━━━━━━━━\u001b[0m\u001b[37m\u001b[0m \u001b[1m0s\u001b[0m 4ms/step - loss: 0.1118 - val_loss: 0.1391\n",
      "Epoch 6/50\n",
      "\u001b[1m8/8\u001b[0m \u001b[32m━━━━━━━━━━━━━━━━━━━━\u001b[0m\u001b[37m\u001b[0m \u001b[1m0s\u001b[0m 4ms/step - loss: 0.0850 - val_loss: 0.1264\n",
      "Epoch 7/50\n",
      "\u001b[1m8/8\u001b[0m \u001b[32m━━━━━━━━━━━━━━━━━━━━\u001b[0m\u001b[37m\u001b[0m \u001b[1m0s\u001b[0m 4ms/step - loss: 0.0758 - val_loss: 0.1259\n",
      "Epoch 8/50\n",
      "\u001b[1m8/8\u001b[0m \u001b[32m━━━━━━━━━━━━━━━━━━━━\u001b[0m\u001b[37m\u001b[0m \u001b[1m0s\u001b[0m 4ms/step - loss: 0.0908 - val_loss: 0.1217\n",
      "Epoch 9/50\n",
      "\u001b[1m8/8\u001b[0m \u001b[32m━━━━━━━━━━━━━━━━━━━━\u001b[0m\u001b[37m\u001b[0m \u001b[1m0s\u001b[0m 4ms/step - loss: 0.0837 - val_loss: 0.1183\n",
      "Epoch 10/50\n",
      "\u001b[1m8/8\u001b[0m \u001b[32m━━━━━━━━━━━━━━━━━━━━\u001b[0m\u001b[37m\u001b[0m \u001b[1m0s\u001b[0m 10ms/step - loss: 0.0791 - val_loss: 0.1143\n",
      "Epoch 11/50\n",
      "\u001b[1m8/8\u001b[0m \u001b[32m━━━━━━━━━━━━━━━━━━━━\u001b[0m\u001b[37m\u001b[0m \u001b[1m0s\u001b[0m 4ms/step - loss: 0.0844 - val_loss: 0.1218\n",
      "Epoch 12/50\n",
      "\u001b[1m8/8\u001b[0m \u001b[32m━━━━━━━━━━━━━━━━━━━━\u001b[0m\u001b[37m\u001b[0m \u001b[1m0s\u001b[0m 4ms/step - loss: 0.0804 - val_loss: 0.1103\n",
      "Epoch 13/50\n",
      "\u001b[1m8/8\u001b[0m \u001b[32m━━━━━━━━━━━━━━━━━━━━\u001b[0m\u001b[37m\u001b[0m \u001b[1m0s\u001b[0m 4ms/step - loss: 0.0851 - val_loss: 0.1103\n",
      "Epoch 14/50\n",
      "\u001b[1m8/8\u001b[0m \u001b[32m━━━━━━━━━━━━━━━━━━━━\u001b[0m\u001b[37m\u001b[0m \u001b[1m0s\u001b[0m 4ms/step - loss: 0.0830 - val_loss: 0.1096\n",
      "Epoch 15/50\n",
      "\u001b[1m8/8\u001b[0m \u001b[32m━━━━━━━━━━━━━━━━━━━━\u001b[0m\u001b[37m\u001b[0m \u001b[1m0s\u001b[0m 4ms/step - loss: 0.0768 - val_loss: 0.1066\n",
      "Epoch 16/50\n",
      "\u001b[1m8/8\u001b[0m \u001b[32m━━━━━━━━━━━━━━━━━━━━\u001b[0m\u001b[37m\u001b[0m \u001b[1m0s\u001b[0m 4ms/step - loss: 0.0841 - val_loss: 0.1118\n",
      "Epoch 17/50\n",
      "\u001b[1m8/8\u001b[0m \u001b[32m━━━━━━━━━━━━━━━━━━━━\u001b[0m\u001b[37m\u001b[0m \u001b[1m0s\u001b[0m 4ms/step - loss: 0.0827 - val_loss: 0.1050\n",
      "Epoch 18/50\n",
      "\u001b[1m8/8\u001b[0m \u001b[32m━━━━━━━━━━━━━━━━━━━━\u001b[0m\u001b[37m\u001b[0m \u001b[1m0s\u001b[0m 4ms/step - loss: 0.0890 - val_loss: 0.1075\n",
      "Epoch 19/50\n",
      "\u001b[1m8/8\u001b[0m \u001b[32m━━━━━━━━━━━━━━━━━━━━\u001b[0m\u001b[37m\u001b[0m \u001b[1m0s\u001b[0m 4ms/step - loss: 0.0812 - val_loss: 0.1033\n",
      "Epoch 20/50\n",
      "\u001b[1m8/8\u001b[0m \u001b[32m━━━━━━━━━━━━━━━━━━━━\u001b[0m\u001b[37m\u001b[0m \u001b[1m0s\u001b[0m 4ms/step - loss: 0.0944 - val_loss: 0.1018\n",
      "Epoch 21/50\n",
      "\u001b[1m8/8\u001b[0m \u001b[32m━━━━━━━━━━━━━━━━━━━━\u001b[0m\u001b[37m\u001b[0m \u001b[1m0s\u001b[0m 4ms/step - loss: 0.0771 - val_loss: 0.1033\n",
      "Epoch 22/50\n",
      "\u001b[1m8/8\u001b[0m \u001b[32m━━━━━━━━━━━━━━━━━━━━\u001b[0m\u001b[37m\u001b[0m \u001b[1m0s\u001b[0m 4ms/step - loss: 0.0699 - val_loss: 0.1002\n",
      "Epoch 23/50\n",
      "\u001b[1m8/8\u001b[0m \u001b[32m━━━━━━━━━━━━━━━━━━━━\u001b[0m\u001b[37m\u001b[0m \u001b[1m0s\u001b[0m 4ms/step - loss: 0.0843 - val_loss: 0.1044\n",
      "Epoch 24/50\n",
      "\u001b[1m8/8\u001b[0m \u001b[32m━━━━━━━━━━━━━━━━━━━━\u001b[0m\u001b[37m\u001b[0m \u001b[1m0s\u001b[0m 4ms/step - loss: 0.0822 - val_loss: 0.1008\n",
      "Epoch 25/50\n",
      "\u001b[1m8/8\u001b[0m \u001b[32m━━━━━━━━━━━━━━━━━━━━\u001b[0m\u001b[37m\u001b[0m \u001b[1m0s\u001b[0m 4ms/step - loss: 0.0721 - val_loss: 0.1071\n",
      "Epoch 26/50\n",
      "\u001b[1m8/8\u001b[0m \u001b[32m━━━━━━━━━━━━━━━━━━━━\u001b[0m\u001b[37m\u001b[0m \u001b[1m0s\u001b[0m 4ms/step - loss: 0.0757 - val_loss: 0.1014\n",
      "Epoch 27/50\n",
      "\u001b[1m8/8\u001b[0m \u001b[32m━━━━━━━━━━━━━━━━━━━━\u001b[0m\u001b[37m\u001b[0m \u001b[1m0s\u001b[0m 4ms/step - loss: 0.0743 - val_loss: 0.1007\n",
      "Epoch 28/50\n",
      "\u001b[1m8/8\u001b[0m \u001b[32m━━━━━━━━━━━━━━━━━━━━\u001b[0m\u001b[37m\u001b[0m \u001b[1m0s\u001b[0m 4ms/step - loss: 0.0767 - val_loss: 0.1029\n",
      "Epoch 29/50\n",
      "\u001b[1m8/8\u001b[0m \u001b[32m━━━━━━━━━━━━━━━━━━━━\u001b[0m\u001b[37m\u001b[0m \u001b[1m0s\u001b[0m 4ms/step - loss: 0.0842 - val_loss: 0.1019\n",
      "Epoch 30/50\n",
      "\u001b[1m8/8\u001b[0m \u001b[32m━━━━━━━━━━━━━━━━━━━━\u001b[0m\u001b[37m\u001b[0m \u001b[1m0s\u001b[0m 4ms/step - loss: 0.0858 - val_loss: 0.1012\n",
      "Epoch 31/50\n",
      "\u001b[1m8/8\u001b[0m \u001b[32m━━━━━━━━━━━━━━━━━━━━\u001b[0m\u001b[37m\u001b[0m \u001b[1m0s\u001b[0m 4ms/step - loss: 0.0823 - val_loss: 0.0984\n",
      "Epoch 32/50\n",
      "\u001b[1m8/8\u001b[0m \u001b[32m━━━━━━━━━━━━━━━━━━━━\u001b[0m\u001b[37m\u001b[0m \u001b[1m0s\u001b[0m 4ms/step - loss: 0.0839 - val_loss: 0.0987\n",
      "Epoch 33/50\n",
      "\u001b[1m8/8\u001b[0m \u001b[32m━━━━━━━━━━━━━━━━━━━━\u001b[0m\u001b[37m\u001b[0m \u001b[1m0s\u001b[0m 4ms/step - loss: 0.0776 - val_loss: 0.1034\n",
      "Epoch 34/50\n",
      "\u001b[1m8/8\u001b[0m \u001b[32m━━━━━━━━━━━━━━━━━━━━\u001b[0m\u001b[37m\u001b[0m \u001b[1m0s\u001b[0m 4ms/step - loss: 0.0791 - val_loss: 0.0986\n",
      "Epoch 35/50\n",
      "\u001b[1m8/8\u001b[0m \u001b[32m━━━━━━━━━━━━━━━━━━━━\u001b[0m\u001b[37m\u001b[0m \u001b[1m0s\u001b[0m 4ms/step - loss: 0.0893 - val_loss: 0.0979\n",
      "Epoch 36/50\n",
      "\u001b[1m8/8\u001b[0m \u001b[32m━━━━━━━━━━━━━━━━━━━━\u001b[0m\u001b[37m\u001b[0m \u001b[1m0s\u001b[0m 4ms/step - loss: 0.0764 - val_loss: 0.1003\n",
      "Epoch 37/50\n",
      "\u001b[1m8/8\u001b[0m \u001b[32m━━━━━━━━━━━━━━━━━━━━\u001b[0m\u001b[37m\u001b[0m \u001b[1m0s\u001b[0m 4ms/step - loss: 0.0918 - val_loss: 0.0981\n",
      "Epoch 38/50\n",
      "\u001b[1m8/8\u001b[0m \u001b[32m━━━━━━━━━━━━━━━━━━━━\u001b[0m\u001b[37m\u001b[0m \u001b[1m0s\u001b[0m 4ms/step - loss: 0.0829 - val_loss: 0.1001\n",
      "Epoch 39/50\n",
      "\u001b[1m8/8\u001b[0m \u001b[32m━━━━━━━━━━━━━━━━━━━━\u001b[0m\u001b[37m\u001b[0m \u001b[1m0s\u001b[0m 4ms/step - loss: 0.0724 - val_loss: 0.0987\n",
      "Epoch 40/50\n",
      "\u001b[1m8/8\u001b[0m \u001b[32m━━━━━━━━━━━━━━━━━━━━\u001b[0m\u001b[37m\u001b[0m \u001b[1m0s\u001b[0m 4ms/step - loss: 0.0744 - val_loss: 0.1003\n",
      "Epoch 41/50\n",
      "\u001b[1m8/8\u001b[0m \u001b[32m━━━━━━━━━━━━━━━━━━━━\u001b[0m\u001b[37m\u001b[0m \u001b[1m0s\u001b[0m 4ms/step - loss: 0.0794 - val_loss: 0.1019\n",
      "Epoch 42/50\n",
      "\u001b[1m8/8\u001b[0m \u001b[32m━━━━━━━━━━━━━━━━━━━━\u001b[0m\u001b[37m\u001b[0m \u001b[1m0s\u001b[0m 4ms/step - loss: 0.0948 - val_loss: 0.0983\n",
      "Epoch 43/50\n",
      "\u001b[1m8/8\u001b[0m \u001b[32m━━━━━━━━━━━━━━━━━━━━\u001b[0m\u001b[37m\u001b[0m \u001b[1m0s\u001b[0m 4ms/step - loss: 0.0848 - val_loss: 0.1018\n",
      "Epoch 44/50\n",
      "\u001b[1m8/8\u001b[0m \u001b[32m━━━━━━━━━━━━━━━━━━━━\u001b[0m\u001b[37m\u001b[0m \u001b[1m0s\u001b[0m 11ms/step - loss: 0.0722 - val_loss: 0.0983\n",
      "Epoch 45/50\n",
      "\u001b[1m8/8\u001b[0m \u001b[32m━━━━━━━━━━━━━━━━━━━━\u001b[0m\u001b[37m\u001b[0m \u001b[1m0s\u001b[0m 4ms/step - loss: 0.0869 - val_loss: 0.1008\n",
      "Epoch 46/50\n",
      "\u001b[1m8/8\u001b[0m \u001b[32m━━━━━━━━━━━━━━━━━━━━\u001b[0m\u001b[37m\u001b[0m \u001b[1m0s\u001b[0m 4ms/step - loss: 0.0758 - val_loss: 0.0957\n",
      "Epoch 47/50\n",
      "\u001b[1m8/8\u001b[0m \u001b[32m━━━━━━━━━━━━━━━━━━━━\u001b[0m\u001b[37m\u001b[0m \u001b[1m0s\u001b[0m 4ms/step - loss: 0.0933 - val_loss: 0.0977\n",
      "Epoch 48/50\n",
      "\u001b[1m8/8\u001b[0m \u001b[32m━━━━━━━━━━━━━━━━━━━━\u001b[0m\u001b[37m\u001b[0m \u001b[1m0s\u001b[0m 4ms/step - loss: 0.0781 - val_loss: 0.0968\n",
      "Epoch 49/50\n",
      "\u001b[1m8/8\u001b[0m \u001b[32m━━━━━━━━━━━━━━━━━━━━\u001b[0m\u001b[37m\u001b[0m \u001b[1m0s\u001b[0m 4ms/step - loss: 0.0786 - val_loss: 0.0976\n",
      "Epoch 50/50\n",
      "\u001b[1m8/8\u001b[0m \u001b[32m━━━━━━━━━━━━━━━━━━━━\u001b[0m\u001b[37m\u001b[0m \u001b[1m0s\u001b[0m 4ms/step - loss: 0.0853 - val_loss: 0.1011\n",
      "\u001b[1m1/1\u001b[0m \u001b[32m━━━━━━━━━━━━━━━━━━━━\u001b[0m\u001b[37m\u001b[0m \u001b[1m0s\u001b[0m 34ms/step\n",
      "Mean Squared Error: 0.10761111969504877\n"
     ]
    }
   ],
   "source": [
    "# 创建示例数据(使用实际数据替换)\n",
    "X_train = np.random.rand(100,10)  # 100个样本，每个样本有10个特征\n",
    "y_train = np.random.rand(100)\n",
    "X_test = np.random.rand(20,10)\n",
    "y_test = np.random.rand(20)\n",
    "\n",
    "# 定义神经网络模型\n",
    "# 使用 Sequential 构建包含两个 Dense 层（第一层 5 个神经元线性激活，输入形状为 X_train 特征数，第二层 1 个神经元线性激活）的神经网络模型\n",
    "model = Sequential([ \n",
    "    Dense(5,activation = 'linear',input_shape = (X_train.shape[1],)), # 5个神经元，线性激活\n",
    "    Dense(1,activation = 'linear') # 输出层\n",
    "])\n",
    "# Sequential 模型：Sequential 是 Keras 中用于构建简单线性堆叠模型的类，即网络层按顺序依次堆叠，前一层的输出作为后一层的输入。\n",
    "# Dense 层：全连接层，每个神经元与前一层的所有神经元都有连接。\n",
    "# 第一层 Dense 层：有 5 个神经元，使用线性激活函数 linear，输入形状为 X_train 的特征数，意味着将输入数据映射到 5 维的特征空间。\n",
    "# 第二层 Dense 层：有 1 个神经元，同样使用线性激活函数，将 5 维的特征空间映射到 1 维的输出空间，通常用于回归问题。\n",
    "\n",
    "# 编译模型\n",
    "model.compile(optimizer = Adam(learning_rate = 0.01),loss ='mean_squared_error')\n",
    "# optimizer 参数指定了优化器，这里使用 Adam 优化器，学习率设置为 0.01。\n",
    "\n",
    "# 训练模型\n",
    "history = model.fit(X_train, y_train,\n",
    "                    epochs=50,\n",
    "                    batch_size=10,\n",
    "                    validation_split=0.2,  # 20% 的数据用于验证\n",
    "                    verbose=1)\n",
    "# epochs=50：指定模型迭代的次数。每一次迭代意味着模型会遍历整个训练数据集一次。通常情况下，迭代次数越多，模型学习得越充分，但过多的迭代可能会导致过拟合，即模型在训练数据上表现很好，但在新数据上表现不佳1。\n",
    "# batch_size=10：每次迭代中使用的样本数量。在训练过程中，模型不会一次性处理整个训练数据集，而是将其分成多个小批次进行处理。batch_size设置为10表示每次迭代模型会使用10个样本进行参数更新。较大的batch_size可以使训练更加稳定，但会占用更多的内存1。\n",
    "# validation_split=0.2：表示将训练数据集的20%作为验证集。在每次训练迭代结束后，模型会在验证集上进行评估，以监控模型在未见过的数据上的性能。这有助于检测模型是否过拟合，以及调整模型的超参数1。\n",
    "# verbose=1：控制训练过程的信息显示模式。verbose=1表示在训练过程中会显示详细的训练进度条，包括每个epoch的训练损失、验证损失等信息。\n",
    "\n",
    "# 预测\n",
    "y_pred = model.predict(X_test)\n",
    "\n",
    "# 评估模型\n",
    "mse = mean_squared_error(y_test, y_pred)\n",
    "print(f\"Mean Squared Error: {mse}\")"
   ]
  },
  {
   "cell_type": "markdown",
   "id": "70fb26fd-8cd5-4fcc-bc82-41457de286f8",
   "metadata": {},
   "source": [
    "#### 卷积神经网络 - 应用"
   ]
  },
  {
   "cell_type": "code",
   "execution_count": 2,
   "id": "20a8429d-f128-48dd-b416-1764cc322ae8",
   "metadata": {},
   "outputs": [],
   "source": [
    "import tensorflow as tf\n",
    "from keras import layers, models\n",
    "from keras.datasets import mnist\n",
    "import matplotlib.pyplot as plt"
   ]
  },
  {
   "cell_type": "code",
   "execution_count": 3,
   "id": "178d2c07-07cd-45a2-9df1-14cb8b157536",
   "metadata": {},
   "outputs": [
    {
     "name": "stdout",
     "output_type": "stream",
     "text": [
      "Downloading data from https://storage.googleapis.com/tensorflow/tf-keras-datasets/mnist.npz\n",
      "\u001b[1m11490434/11490434\u001b[0m \u001b[32m━━━━━━━━━━━━━━━━━━━━\u001b[0m\u001b[37m\u001b[0m \u001b[1m2s\u001b[0m 0us/step \n"
     ]
    }
   ],
   "source": [
    "# 加载 MNIST 数据集\n",
    "(x_train,y_train),(x_test,y_test) = mnist.load_data()"
   ]
  },
  {
   "cell_type": "markdown",
   "id": "88765cd3-b71a-4299-8673-c941d725e319",
   "metadata": {},
   "source": [
    "原理\n",
    "在图像数据处理中，图像通常由像素值组成，每个像素值表示该位置的颜色强度。在常见的图像表示中，像素值的范围通常是 0 到 255，其中 0 表示黑色，255 表示白色。这种归一化方法的原理是将每个像素值除以 255，将像素值的范围从 [0, 255] 缩放到 [0, 1]。\n",
    "\n",
    "作用\n",
    "加速模型收敛：在机器学习和深度学习中，模型通常使用梯度下降等优化算法来更新参数。当输入数据的范围较大时，梯度的计算可能会变得不稳定，导致模型收敛速度较慢。通过将数据归一化到 [0, 1] 范围，可以使梯度计算更加稳定，从而加速模型的收敛速度。\n",
    "提高模型的稳定性：不同特征的取值范围可能差异很大，如果不进行归一化，模型可能会对取值范围较大的特征更加敏感，从而影响模型的稳定性和泛化能力。归一化后，所有特征的取值范围相同，模型可以更加公平地对待每个特征。\n",
    "避免数值问题：在计算过程中，较大的数值可能会导致数值溢出或下溢等问题。将数据归一化到较小的范围可以减少这些数值问题的发生。"
   ]
  },
  {
   "cell_type": "code",
   "execution_count": 4,
   "id": "6f301f07-258c-4aa1-b38a-cfaf30312820",
   "metadata": {},
   "outputs": [],
   "source": [
    "# 归一化数据\n",
    "x_train = x_train / 255.0\n",
    "x_test = x_test / 255.0"
   ]
  },
  {
   "cell_type": "code",
   "execution_count": 6,
   "id": "95bdfcba-b5a4-4f99-8e43-a6468fd37558",
   "metadata": {},
   "outputs": [],
   "source": [
    "# 构建模型\n",
    "model = models.Sequential([\n",
    "    layers.Flatten(input_shape = (28,28)),\n",
    "    # Flatten(input_shape=(28,28)) 层的作用是将输入数据进行扁平化处理。\n",
    "    # 在输入为二维数据（如 28x28 的图像）时，Flatten 层会将其转换为一维向量。\n",
    "    # 例如，一个 28x28 的图像经过 Flatten 层后，会变成一个长度为 28 * 28 = 784 的一维向量。这是因为后续的全连接层（Dense 层）通常要求输入为一维数据\n",
    "    layers.Dense(128,activation = 'relu'),\n",
    "    # Dense(128, activation='relu')：这是一个全连接层，包含 128 个神经元。\n",
    "    # 全连接层的每个神经元都与前一层的所有神经元相连。activation='relu' 表示使用 ReLU（Rectified Linear Unit）激活函数。\n",
    "    # 它可以引入非线性因素，使得神经网络能够学习到更复杂的模式。\n",
    "    layers.Dropout(0.2),\n",
    "    # Dropout(0.2) 层的作用是在训练过程中随机忽略（丢弃）20% 的神经元。这是一种正则化技术，可以防止模型过拟合。\n",
    "    # 过拟合是指模型在训练数据上表现很好，但在测试数据上表现较差的现象。通过随机丢弃神经元，模型可以学习到更鲁棒的特征，减少对某些特定神经元的依赖\n",
    "    layers.Dense(10,activation = 'softmax')\n",
    "    # 这也是一个全连接层，包含 10 个神经元。activation='softmax' 表示使用 Softmax 激活函数。\n",
    "    # Softmax 函数常用于多分类问题，它将每个神经元的输出转换为概率值，所有神经元的概率值之和为 1。这使得模型的输出可以表示为每个类别的概率分布\n",
    "])"
   ]
  },
  {
   "cell_type": "code",
   "execution_count": 7,
   "id": "7c4c6f5d-1b02-43e6-97cb-ccb30ca6c396",
   "metadata": {},
   "outputs": [
    {
     "name": "stdout",
     "output_type": "stream",
     "text": [
      "Epoch 1/5\n",
      "\u001b[1m1875/1875\u001b[0m \u001b[32m━━━━━━━━━━━━━━━━━━━━\u001b[0m\u001b[37m\u001b[0m \u001b[1m3s\u001b[0m 1ms/step - accuracy: 0.8600 - loss: 0.4816\n",
      "Epoch 2/5\n",
      "\u001b[1m1875/1875\u001b[0m \u001b[32m━━━━━━━━━━━━━━━━━━━━\u001b[0m\u001b[37m\u001b[0m \u001b[1m3s\u001b[0m 1ms/step - accuracy: 0.9577 - loss: 0.1464\n",
      "Epoch 3/5\n",
      "\u001b[1m1875/1875\u001b[0m \u001b[32m━━━━━━━━━━━━━━━━━━━━\u001b[0m\u001b[37m\u001b[0m \u001b[1m3s\u001b[0m 1ms/step - accuracy: 0.9680 - loss: 0.1061\n",
      "Epoch 4/5\n",
      "\u001b[1m1875/1875\u001b[0m \u001b[32m━━━━━━━━━━━━━━━━━━━━\u001b[0m\u001b[37m\u001b[0m \u001b[1m2s\u001b[0m 1ms/step - accuracy: 0.9732 - loss: 0.0869\n",
      "Epoch 5/5\n",
      "\u001b[1m1875/1875\u001b[0m \u001b[32m━━━━━━━━━━━━━━━━━━━━\u001b[0m\u001b[37m\u001b[0m \u001b[1m2s\u001b[0m 1ms/step - accuracy: 0.9770 - loss: 0.0736\n",
      "\u001b[1m313/313\u001b[0m \u001b[32m━━━━━━━━━━━━━━━━━━━━\u001b[0m\u001b[37m\u001b[0m \u001b[1m0s\u001b[0m 841us/step - accuracy: 0.9760 - loss: 0.0807\n",
      "\n",
      "Test accuracy: 0.9785000085830688\n",
      "\u001b[1m313/313\u001b[0m \u001b[32m━━━━━━━━━━━━━━━━━━━━\u001b[0m\u001b[37m\u001b[0m \u001b[1m0s\u001b[0m 1ms/step  \n"
     ]
    },
    {
     "data": {
      "image/png": "[encoded data removed]",
      "text/plain": [
       "<Figure size 640x480 with 1 Axes>"
      ]
     },
     "metadata": {},
     "output_type": "display_data"
    },
    {
     "data": {
      "image/png": "[encoded data removed]",
      "text/plain": [
       "<Figure size 640x480 with 1 Axes>"
      ]
     },
     "metadata": {},
     "output_type": "display_data"
    },
    {
     "data": {
      "image/png": "[encoded data removed]",
      "text/plain": [
       "<Figure size 640x480 with 1 Axes>"
      ]
     },
     "metadata": {},
     "output_type": "display_data"
    },
    {
     "data": {
      "image/png": "[encoded data removed]",
      "text/plain": [
       "<Figure size 640x480 with 1 Axes>"
      ]
     },
     "metadata": {},
     "output_type": "display_data"
    },
    {
     "data": {
      "image/png": "[encoded data removed]",
      "text/plain": [
       "<Figure size 640x480 with 1 Axes>"
      ]
     },
     "metadata": {},
     "output_type": "display_data"
    }
   ],
   "source": [
    "# 编译模型\n",
    "model.compile(optimizer='adam',\n",
    "              loss='sparse_categorical_crossentropy',\n",
    "              metrics=['accuracy'])\n",
    "\n",
    "# 训练模型\n",
    "model.fit(x_train, y_train, epochs=5)\n",
    "\n",
    "# 评估模型\n",
    "test_loss, test_acc = model.evaluate(x_test, y_test)\n",
    "\n",
    "print(f'\\nTest accuracy: {test_acc}')\n",
    "\n",
    "# 可视化测试集中的前5个图像及其预测结果\n",
    "predictions = model.predict(x_test)\n",
    "\n",
    "for i in range(5):\n",
    "    plt.grid(False)\n",
    "    plt.imshow(x_test[i], cmap=plt.cm.binary)\n",
    "    plt.title(f\"Prediction: {predictions[i].argmax()}\")\n",
    "    plt.show()"
   ]
  },
  {
   "cell_type": "markdown",
   "id": "8b6064e4-01bb-4a37-bb2a-920152b2d544",
   "metadata": {},
   "source": [
    "#### CNN"
   ]
  },
  {
   "cell_type": "code",
   "execution_count": 8,
   "id": "9782cda2-8696-4005-a3c7-1d1526a41d49",
   "metadata": {},
   "outputs": [
    {
     "name": "stdout",
     "output_type": "stream",
     "text": [
      "Epoch 1/5\n"
     ]
    },
    {
     "name": "stderr",
     "output_type": "stream",
     "text": [
      "/opt/anaconda3/envs/tensorflow/lib/python3.9/site-packages/keras/src/layers/convolutional/base_conv.py:107: UserWarning: Do not pass an `input_shape`/`input_dim` argument to a layer. When using Sequential models, prefer using an `Input(shape)` object as the first layer in the model instead.\n",
      "  super().__init__(activity_regularizer=activity_regularizer, **kwargs)\n"
     ]
    },
    {
     "name": "stdout",
     "output_type": "stream",
     "text": [
      "\u001b[1m1875/1875\u001b[0m \u001b[32m━━━━━━━━━━━━━━━━━━━━\u001b[0m\u001b[37m\u001b[0m \u001b[1m31s\u001b[0m 16ms/step - accuracy: 0.8877 - loss: 0.3683\n",
      "Epoch 2/5\n",
      "\u001b[1m1875/1875\u001b[0m \u001b[32m━━━━━━━━━━━━━━━━━━━━\u001b[0m\u001b[37m\u001b[0m \u001b[1m40s\u001b[0m 21ms/step - accuracy: 0.9838 - loss: 0.0524\n",
      "Epoch 3/5\n",
      "\u001b[1m1875/1875\u001b[0m \u001b[32m━━━━━━━━━━━━━━━━━━━━\u001b[0m\u001b[37m\u001b[0m \u001b[1m43s\u001b[0m 23ms/step - accuracy: 0.9889 - loss: 0.0340\n",
      "Epoch 4/5\n",
      "\u001b[1m1875/1875\u001b[0m \u001b[32m━━━━━━━━━━━━━━━━━━━━\u001b[0m\u001b[37m\u001b[0m \u001b[1m45s\u001b[0m 24ms/step - accuracy: 0.9919 - loss: 0.0247\n",
      "Epoch 5/5\n",
      "\u001b[1m1875/1875\u001b[0m \u001b[32m━━━━━━━━━━━━━━━━━━━━\u001b[0m\u001b[37m\u001b[0m \u001b[1m47s\u001b[0m 25ms/step - accuracy: 0.9939 - loss: 0.0191\n",
      "\u001b[1m313/313\u001b[0m \u001b[32m━━━━━━━━━━━━━━━━━━━━\u001b[0m\u001b[37m\u001b[0m \u001b[1m4s\u001b[0m 12ms/step - accuracy: 0.9856 - loss: 0.0437\n",
      "Test accuracy: 0.9900000095367432\n"
     ]
    }
   ],
   "source": [
    "import tensorflow as tf\n",
    "from keras import layers, models\n",
    "from keras.datasets import mnist\n",
    "import matplotlib.pyplot as plt\n",
    "\n",
    "# 加载MNIST数据集\n",
    "(x_train, y_train), (x_test, y_test) = mnist.load_data()\n",
    "\n",
    "# 归一化数据\n",
    "x_train = x_train / 255.0\n",
    "x_test = x_test / 255.0\n",
    "\n",
    "# 增加一个通道维度（因为MNIST是灰度图像，所以只有一个通道）\n",
    "x_train = x_train[..., tf.newaxis]\n",
    "x_test = x_test[..., tf.newaxis]\n",
    "\n",
    "# 构建CNN模型\n",
    "model = models.Sequential([\n",
    "    layers.Conv2D(32, (3, 3), activation='relu', input_shape=(28, 28, 1)), # 卷积层1\n",
    "    layers.MaxPooling2D((2, 2)),                                            # 池化层1\n",
    "    layers.Conv2D(64, (3, 3), activation='relu'),                          # 卷积层2\n",
    "    layers.MaxPooling2D((2, 2)),                                            # 池化层2\n",
    "    layers.Conv2D(64, (3, 3), activation='relu'),                          # 卷积层3\n",
    "    layers.Flatten(),                                                      # 展平层\n",
    "    layers.Dense(64, activation='relu'),                                   # 全连接层1\n",
    "    layers.Dense(10, activation='softmax')                                 # 输出层\n",
    "])\n",
    "\n",
    "# 编译模型\n",
    "model.compile(optimizer='adam',\n",
    "              loss='sparse_categorical_crossentropy',\n",
    "              metrics=['accuracy'])\n",
    "\n",
    "# 训练模型\n",
    "model.fit(x_train, y_train, epochs=5)\n",
    "\n",
    "# 评估模型\n",
    "test_loss, test_acc = model.evaluate(x_test, y_test)\n",
    "print(f'Test accuracy: {test_acc}')\n"
   ]
  },
  {
   "cell_type": "markdown",
   "id": "50678e29-1e2d-4947-815b-3018a4d520ab",
   "metadata": {},
   "source": [
    "#### 支持向量机"
   ]
  },
  {
   "cell_type": "code",
   "execution_count": 7,
   "id": "c0af26fd-58ac-472e-9129-8cfa07612de4",
   "metadata": {},
   "outputs": [
    {
     "name": "stdout",
     "output_type": "stream",
     "text": [
      "Mean Squared Error: 0.12353670491328335\n"
     ]
    }
   ],
   "source": [
    "import numpy as np\n",
    "from sklearn.svm import SVR\n",
    "from sklearn.preprocessing import StandardScaler\n",
    "from sklearn.pipeline import make_pipeline\n",
    "from sklearn.metrics import mean_squared_error\n",
    "\n",
    "# 创建示例数据（使用实际数据替换）\n",
    "X_train = np.random.rand(100, 10)  # 100个样本，每个样本有10个特征\n",
    "y_train = np.random.rand(100)\n",
    "X_test = np.random.rand(20, 10)\n",
    "y_test = np.random.rand(20)\n",
    "\n",
    "# 定义支持向量机回归模型\n",
    "svm_model = make_pipeline(\n",
    "    StandardScaler(),\n",
    "    SVR(kernel = 'linear',C = 1.0)\n",
    ")\n",
    "# make_pipeline：它是一个便捷函数，用于快速创建 Pipeline 对象。Pipeline 是一个将多个数据处理步骤和机器学习模型组合在一起的工具，按顺序执行每个步骤。在这个例子中，make_pipeline 会依次执行 StandardScaler 的数据标准化操作，然后使用 SVR 进行回归分析。\n",
    "# StandardScaler：用于对数据进行标准化处理。标准化可以使数据的均值为 0，标准差为 1，有助于提高模型的训练效果和收敛速度。许多机器学习算法在标准化的数据上表现更好，特别是那些基于距离计算的算法，如 SVM。\n",
    "# SVR(kernel='linear', C = 1.0)：SVR 是支持向量回归模型，用于解决回归问题。kernel='linear' 表示使用线性核函数，意味着模型假设数据在特征空间中是线性可分的。C = 1.0 是正则化参数，控制模型的复杂度。较小的 C 值会使模型更注重全局特征，减少过拟合的风险；较大的 C 值会使模型更注重局部特征，可能导致过拟合。\n",
    "\n",
    "# 训练模型\n",
    "svm_model.fit(X_train,y_train)\n",
    "\n",
    "# 预测\n",
    "y_pred = svm_model.predict(X_test)\n",
    "\n",
    "# 评估模型\n",
    "mse = mean_squared_error(y_test, y_pred)\n",
    "print(f\"Mean Squared Error: {mse}\")"
   ]
  },
  {
   "cell_type": "markdown",
   "id": "b302c7c8-17ab-4270-95eb-85259640e437",
   "metadata": {},
   "source": [
    "因为X有10个特征,y没有设置,所以在数值上无法一一对应,无法可视化"
   ]
  },
  {
   "cell_type": "markdown",
   "id": "018f8e46-369f-44e2-a7d9-1cd621830adf",
   "metadata": {},
   "source": [
    "#### XGB-Poisson (XP)"
   ]
  },
  {
   "cell_type": "code",
   "execution_count": 2,
   "id": "66ad6959-87b6-478e-a953-3c5c6deb546b",
   "metadata": {},
   "outputs": [
    {
     "name": "stdout",
     "output_type": "stream",
     "text": [
      "Mean Squared Error: 845926.7500\n"
     ]
    },
    {
     "data": {
      "image/png": "[encoded data removed]",
      "text/plain": [
       "<Figure size 640x480 with 1 Axes>"
      ]
     },
     "metadata": {},
     "output_type": "display_data"
    }
   ],
   "source": [
    "import xgboost as xgb\n",
    "import pandas as pd\n",
    "import numpy as np\n",
    "from sklearn.model_selection import train_test_split\n",
    "from sklearn.metrics import mean_squared_error\n",
    "import matplotlib.pyplot as plt\n",
    "\n",
    "# 1. 生成模拟数据\n",
    "np.random.seed(0)\n",
    "n = 1000  # 样本量\n",
    "\n",
    "# 自变量\n",
    "# loc、scale 和 size 是用于生成正态分布（高斯分布）随机数的参数。\n",
    "X1 = np.random.normal(loc = 5,scale = 2,size = n)\n",
    "X2 = np.random.normal(loc = 10, scale = 3, size = n)\n",
    "\n",
    "# 生成泊松分布的事件发生次数作为响应变量\n",
    "lambda_ = np.exp(0.5 * X1 + 0.3 * X2)\n",
    "Y = np.random.poisson(lam = lambda_)\n",
    "\n",
    "# 创建dataframe\n",
    "data = pd.DataFrame({\n",
    "    'X1':X1,\n",
    "    'X2':X2,\n",
    "    'Y':Y\n",
    "})\n",
    "\n",
    "# 2.数据准备\n",
    "X = data[['X1','X2']]\n",
    "y = data['Y']\n",
    "\n",
    "# 拆分数据集为训练集和测试集\n",
    "X_train, X_test, y_train, y_test = train_test_split(X, y, test_size=0.2, random_state=0)\n",
    "\n",
    "# 3.构建DMatrix对象\n",
    "dtrain = xgb.DMatrix(X_train.values,label = y_train.values)\n",
    "dtest = xgb.DMatrix(X_test.values,label = y_test.values)\n",
    "\n",
    "# 4.设置参数\n",
    "# 4. 设置参数\n",
    "params = {\n",
    "    'objective': 'count:poisson',  # 使用泊松回归\n",
    "    'eval_metric': 'poisson-nloglik',  # 使用泊松对数似然作为评估指标\n",
    "    'eta': 0.1,  # 学习率\n",
    "    'max_depth': 6,  # 树的最大深度\n",
    "    'alpha': 0.1,  # L1 正则化项\n",
    "    'base_score': 0.5  # 确保 base_score 是一个合理的数值\n",
    "}\n",
    "\n",
    "# 5.训练模型\n",
    "num_round = 100 # 迭代次数\n",
    "model = xgb.train(params,dtrain,num_round)\n",
    "\n",
    "# 6.进行预测\n",
    "y_pred = model.predict(dtest)\n",
    "\n",
    "# 7.评估模型\n",
    "mse = mean_squared_error(y_test,y_pred)\n",
    "print(f\"Mean Squared Error: {mse:.4f}\")\n",
    "\n",
    "# 8. 打印特征重要性\n",
    "xgb.plot_importance(model)\n",
    "plt.show()"
   ]
  },
  {
   "cell_type": "code",
   "execution_count": null,
   "id": "40c5176e-1d75-4459-a53b-c57fe7376315",
   "metadata": {},
   "outputs": [],
   "source": []
  }
 ],
 "metadata": {
  "kernelspec": {
   "display_name": "Python [conda env:tensorflow]",
   "language": "python",
   "name": "conda-env-tensorflow-py"
  },
  "language_info": {
   "codemirror_mode": {
    "name": "ipython",
    "version": 3
   },
   "file_extension": ".py",
   "mimetype": "text/x-python",
   "name": "python",
   "nbconvert_exporter": "python",
   "pygments_lexer": "ipython3",
   "version": "3.9.23"
  }
 },
 "nbformat": 4,
 "nbformat_minor": 5
}
